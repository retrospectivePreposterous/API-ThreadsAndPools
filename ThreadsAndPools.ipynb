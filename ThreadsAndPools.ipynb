{
 "cells": [
  {
   "cell_type": "code",
   "execution_count": 1,
   "id": "e96360e4",
   "metadata": {},
   "outputs": [
    {
     "name": "stdout",
     "output_type": "stream",
     "text": [
      "Thread 3: startingThread 5: startingThread 7: starting\n",
      "\n",
      "\n",
      "Thread 5: finishingThread 7: finishingThread 3: finishing\n",
      "Thread 9: starting\n",
      "\n",
      "Thread 15: starting\n",
      "\n",
      "Thread 17: starting\n",
      "Thread 9: finishingThread 17: finishing\n",
      "Thread 19: starting\n",
      "Thread 15: finishing\n",
      "\n",
      "Thread 19: finishing\n"
     ]
    }
   ],
   "source": [
    "# THREADS\n",
    "\n",
    "from queue import Queue\n",
    "from threading import Thread\n",
    "import time\n",
    "\n",
    "num_worker_threads = 3\n",
    "lista = [3,5,7,9,15,17,19]\n",
    "\n",
    "def worker():\n",
    "    while True:\n",
    "        item = q.get()\n",
    "        \n",
    "        print(\"Thread {}: starting\" .format(item))\n",
    "        time.sleep(2)\n",
    "        print(\"Thread {}: finishing\" .format(item))\n",
    "        \n",
    "        q.task_done()\n",
    "\n",
    "q = Queue()\n",
    "for i in range(num_worker_threads):\n",
    "    t = Thread(target=worker)\n",
    "    t.daemon = True\n",
    "    t.start()\n",
    "\n",
    "for item in lista:\n",
    "    q.put(item)\n",
    "\n",
    "q.join()       # Se mantiene el trabajo hasta que todos los items en la lista han sido procesados"
   ]
  },
  {
   "cell_type": "code",
   "execution_count": 1,
   "id": "fdd766db",
   "metadata": {},
   "outputs": [],
   "source": [
    "# POOL (no funciona correctamente en windows)\n",
    "\n",
    "from multiprocessing import Pool, cpu_count\n",
    "\n",
    "lista = [3,5,7,9,15,17,19]\n",
    "\n",
    "def pool_jobs (item):\n",
    "    newitem = item**2\n",
    "    return newitem\n",
    "\n",
    "pool = Pool(processes=cpu_count())\n",
    "results = pool.map(pool_jobs, lista) "
   ]
  },
  {
   "cell_type": "markdown",
   "id": "2547b8f1",
   "metadata": {},
   "source": [
    "[9, 25, 49, 81, 225, 289, 361]"
   ]
  }
 ],
 "metadata": {
  "kernelspec": {
   "display_name": "Python 3 (ipykernel)",
   "language": "python",
   "name": "python3"
  },
  "language_info": {
   "codemirror_mode": {
    "name": "ipython",
    "version": 3
   },
   "file_extension": ".py",
   "mimetype": "text/x-python",
   "name": "python",
   "nbconvert_exporter": "python",
   "pygments_lexer": "ipython3",
   "version": "3.8.12"
  }
 },
 "nbformat": 4,
 "nbformat_minor": 5
}
